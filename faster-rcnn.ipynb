{
  "nbformat": 4,
  "nbformat_minor": 0,
  "metadata": {
    "colab": {
      "name": "Untitled1.ipynb",
      "version": "0.3.2",
      "provenance": [],
      "include_colab_link": true
    },
    "kernelspec": {
      "name": "python3",
      "display_name": "Python 3"
    },
    "accelerator": "GPU"
  },
  "cells": [
    {
      "cell_type": "markdown",
      "metadata": {
        "id": "view-in-github",
        "colab_type": "text"
      },
      "source": [
        "<a href=\"https://colab.research.google.com/github/LiuShuai26/Assignment2/blob/master/faster-rcnn.ipynb\" target=\"_parent\"><img src=\"https://colab.research.google.com/assets/colab-badge.svg\" alt=\"Open In Colab\"/></a>"
      ]
    },
    {
      "metadata": {
        "id": "I49zaYdBZ1Rb",
        "colab_type": "code",
        "colab": {
          "base_uri": "https://localhost:8080/",
          "height": 136
        },
        "outputId": "8c0a678b-8fea-4f2d-edd7-bc9706f30970"
      },
      "cell_type": "code",
      "source": [
        "!git clone https://github.com/endernewton/tf-faster-rcnn.git"
      ],
      "execution_count": 21,
      "outputs": [
        {
          "output_type": "stream",
          "text": [
            "Cloning into 'tf-faster-rcnn'...\n",
            "remote: Enumerating objects: 3, done.\u001b[K\n",
            "remote: Counting objects: 100% (3/3), done.\u001b[K\n",
            "remote: Compressing objects: 100% (3/3), done.\u001b[K\n",
            "remote: Total 1675 (delta 0), reused 0 (delta 0), pack-reused 1672\u001b[K\n",
            "Receiving objects: 100% (1675/1675), 2.45 MiB | 14.26 MiB/s, done.\n",
            "Resolving deltas: 100% (1088/1088), done.\n"
          ],
          "name": "stdout"
        }
      ]
    },
    {
      "metadata": {
        "id": "b5MIdS8dZ97t",
        "colab_type": "code",
        "colab": {
          "base_uri": "https://localhost:8080/",
          "height": 34
        },
        "outputId": "84cb9166-bec3-442b-8744-d2b0c734b817"
      },
      "cell_type": "code",
      "source": [
        "ls"
      ],
      "execution_count": 22,
      "outputs": [
        {
          "output_type": "stream",
          "text": [
            "\u001b[0m\u001b[01;34mtf-faster-rcnn\u001b[0m/\n"
          ],
          "name": "stdout"
        }
      ]
    },
    {
      "metadata": {
        "id": "wh5y3p6SaBHH",
        "colab_type": "code",
        "colab": {
          "base_uri": "https://localhost:8080/",
          "height": 34
        },
        "outputId": "c6a44c96-93de-4882-c222-6187afb3c31e"
      },
      "cell_type": "code",
      "source": [
        "cd .."
      ],
      "execution_count": 23,
      "outputs": [
        {
          "output_type": "stream",
          "text": [
            "/\n"
          ],
          "name": "stdout"
        }
      ]
    },
    {
      "metadata": {
        "id": "OvH3HqHfaF0W",
        "colab_type": "code",
        "colab": {
          "base_uri": "https://localhost:8080/",
          "height": 34
        },
        "outputId": "e83206d3-0c27-46b5-976d-a1d368af9a73"
      },
      "cell_type": "code",
      "source": [
        "cd content"
      ],
      "execution_count": 24,
      "outputs": [
        {
          "output_type": "stream",
          "text": [
            "/content\n"
          ],
          "name": "stdout"
        }
      ]
    },
    {
      "metadata": {
        "id": "1lUmdRLnaHPb",
        "colab_type": "code",
        "colab": {
          "base_uri": "https://localhost:8080/",
          "height": 34
        },
        "outputId": "3244cef8-13d4-487a-c2f6-76b26535a2de"
      },
      "cell_type": "code",
      "source": [
        "ls"
      ],
      "execution_count": 25,
      "outputs": [
        {
          "output_type": "stream",
          "text": [
            "\u001b[0m\u001b[01;34msample_data\u001b[0m/\n"
          ],
          "name": "stdout"
        }
      ]
    },
    {
      "metadata": {
        "id": "fI52LUzkaIPa",
        "colab_type": "code",
        "colab": {
          "base_uri": "https://localhost:8080/",
          "height": 136
        },
        "outputId": "d20b58d9-82ee-4d16-b19f-f23984a81298"
      },
      "cell_type": "code",
      "source": [
        "!git clone https://github.com/endernewton/tf-faster-rcnn.git"
      ],
      "execution_count": 26,
      "outputs": [
        {
          "output_type": "stream",
          "text": [
            "Cloning into 'tf-faster-rcnn'...\n",
            "remote: Enumerating objects: 3, done.\u001b[K\n",
            "remote: Counting objects:  33% (1/3)   \u001b[K\rremote: Counting objects:  66% (2/3)   \u001b[K\rremote: Counting objects: 100% (3/3)   \u001b[K\rremote: Counting objects: 100% (3/3), done.\u001b[K\n",
            "remote: Compressing objects:  33% (1/3)   \u001b[K\rremote: Compressing objects:  66% (2/3)   \u001b[K\rremote: Compressing objects: 100% (3/3)   \u001b[K\rremote: Compressing objects: 100% (3/3), done.\u001b[K\n",
            "Receiving objects:   0% (1/1675)   \rReceiving objects:   1% (17/1675)   \rReceiving objects:   2% (34/1675)   \rReceiving objects:   3% (51/1675)   \rReceiving objects:   4% (67/1675)   \rReceiving objects:   5% (84/1675)   \rReceiving objects:   6% (101/1675)   \rReceiving objects:   7% (118/1675)   \rReceiving objects:   8% (134/1675)   \rReceiving objects:   9% (151/1675)   \rReceiving objects:  10% (168/1675)   \rReceiving objects:  11% (185/1675)   \rReceiving objects:  12% (201/1675)   \rReceiving objects:  13% (218/1675)   \rReceiving objects:  14% (235/1675)   \rReceiving objects:  15% (252/1675)   \rReceiving objects:  16% (268/1675)   \rReceiving objects:  17% (285/1675)   \rReceiving objects:  18% (302/1675)   \rReceiving objects:  19% (319/1675)   \rReceiving objects:  20% (335/1675)   \rReceiving objects:  21% (352/1675)   \rReceiving objects:  22% (369/1675)   \rReceiving objects:  23% (386/1675)   \rReceiving objects:  24% (402/1675)   \rReceiving objects:  25% (419/1675)   \rReceiving objects:  26% (436/1675)   \rReceiving objects:  27% (453/1675)   \rReceiving objects:  28% (469/1675)   \rReceiving objects:  29% (486/1675)   \rReceiving objects:  30% (503/1675)   \rReceiving objects:  31% (520/1675)   \rReceiving objects:  32% (536/1675)   \rReceiving objects:  33% (553/1675)   \rReceiving objects:  34% (570/1675)   \rReceiving objects:  35% (587/1675)   \rReceiving objects:  36% (603/1675)   \rReceiving objects:  37% (620/1675)   \rReceiving objects:  38% (637/1675)   \rReceiving objects:  39% (654/1675)   \rReceiving objects:  40% (670/1675)   \rReceiving objects:  41% (687/1675)   \rReceiving objects:  42% (704/1675)   \rReceiving objects:  43% (721/1675)   \rReceiving objects:  44% (737/1675)   \rReceiving objects:  45% (754/1675)   \rReceiving objects:  46% (771/1675)   \rReceiving objects:  47% (788/1675)   \rReceiving objects:  48% (804/1675)   \rReceiving objects:  49% (821/1675)   \rReceiving objects:  50% (838/1675)   \rReceiving objects:  51% (855/1675)   \rReceiving objects:  52% (871/1675)   \rReceiving objects:  53% (888/1675)   \rReceiving objects:  54% (905/1675)   \rReceiving objects:  55% (922/1675)   \rReceiving objects:  56% (938/1675)   \rReceiving objects:  57% (955/1675)   \rReceiving objects:  58% (972/1675)   \rReceiving objects:  59% (989/1675)   \rReceiving objects:  60% (1005/1675)   \rReceiving objects:  61% (1022/1675)   \rReceiving objects:  62% (1039/1675)   \rReceiving objects:  63% (1056/1675)   \rReceiving objects:  64% (1072/1675)   \rReceiving objects:  65% (1089/1675)   \rReceiving objects:  66% (1106/1675)   \rReceiving objects:  67% (1123/1675)   \rReceiving objects:  68% (1139/1675)   \rReceiving objects:  69% (1156/1675)   \rReceiving objects:  70% (1173/1675)   \rReceiving objects:  71% (1190/1675)   \rReceiving objects:  72% (1206/1675)   \rReceiving objects:  73% (1223/1675)   \rReceiving objects:  74% (1240/1675)   \rReceiving objects:  75% (1257/1675)   \rReceiving objects:  76% (1273/1675)   \rReceiving objects:  77% (1290/1675)   \rReceiving objects:  78% (1307/1675)   \rReceiving objects:  79% (1324/1675)   \rReceiving objects:  80% (1340/1675)   \rReceiving objects:  81% (1357/1675)   \rReceiving objects:  82% (1374/1675)   \rReceiving objects:  83% (1391/1675)   \rReceiving objects:  84% (1407/1675)   \rReceiving objects:  85% (1424/1675)   \rReceiving objects:  86% (1441/1675)   \rReceiving objects:  87% (1458/1675)   \rReceiving objects:  88% (1474/1675)   \rReceiving objects:  89% (1491/1675)   \rReceiving objects:  90% (1508/1675)   \rReceiving objects:  91% (1525/1675)   \rReceiving objects:  92% (1541/1675)   \rReceiving objects:  93% (1558/1675)   \rReceiving objects:  94% (1575/1675)   \rReceiving objects:  95% (1592/1675)   \rremote: Total 1675 (delta 0), reused 0 (delta 0), pack-reused 1672\u001b[K\n",
            "Receiving objects:  96% (1608/1675)   \rReceiving objects:  97% (1625/1675)   \rReceiving objects:  98% (1642/1675)   \rReceiving objects:  99% (1659/1675)   \rReceiving objects: 100% (1675/1675)   \rReceiving objects: 100% (1675/1675), 2.45 MiB | 13.42 MiB/s, done.\n",
            "Resolving deltas:   0% (0/1088)   \rResolving deltas:   1% (19/1088)   \rResolving deltas:   2% (22/1088)   \rResolving deltas:   5% (60/1088)   \rResolving deltas:   6% (66/1088)   \rResolving deltas:   7% (77/1088)   \rResolving deltas:   8% (92/1088)   \rResolving deltas:   9% (99/1088)   \rResolving deltas:  10% (109/1088)   \rResolving deltas:  11% (120/1088)   \rResolving deltas:  13% (152/1088)   \rResolving deltas:  14% (154/1088)   \rResolving deltas:  17% (188/1088)   \rResolving deltas:  19% (212/1088)   \rResolving deltas:  20% (223/1088)   \rResolving deltas:  21% (229/1088)   \rResolving deltas:  22% (243/1088)   \rResolving deltas:  23% (258/1088)   \rResolving deltas:  25% (275/1088)   \rResolving deltas:  26% (284/1088)   \rResolving deltas:  27% (297/1088)   \rResolving deltas:  32% (349/1088)   \rResolving deltas:  33% (367/1088)   \rResolving deltas:  34% (370/1088)   \rResolving deltas:  35% (386/1088)   \rResolving deltas:  36% (392/1088)   \rResolving deltas:  37% (410/1088)   \rResolving deltas:  39% (425/1088)   \rResolving deltas:  41% (450/1088)   \rResolving deltas:  43% (468/1088)   \rResolving deltas:  44% (479/1088)   \rResolving deltas:  50% (550/1088)   \rResolving deltas:  52% (566/1088)   \rResolving deltas:  53% (577/1088)   \rResolving deltas:  55% (602/1088)   \rResolving deltas:  56% (617/1088)   \rResolving deltas:  57% (623/1088)   \rResolving deltas:  58% (633/1088)   \rResolving deltas:  59% (643/1088)   \rResolving deltas:  60% (653/1088)   \rResolving deltas:  61% (672/1088)   \rResolving deltas:  62% (679/1088)   \rResolving deltas:  63% (689/1088)   \rResolving deltas:  64% (697/1088)   \rResolving deltas:  65% (708/1088)   \rResolving deltas:  67% (734/1088)   \rResolving deltas:  69% (758/1088)   \rResolving deltas:  70% (770/1088)   \rResolving deltas:  71% (782/1088)   \rResolving deltas:  77% (848/1088)   \rResolving deltas:  78% (849/1088)   \rResolving deltas:  79% (863/1088)   \rResolving deltas:  80% (878/1088)   \rResolving deltas:  81% (884/1088)   \rResolving deltas:  83% (909/1088)   \rResolving deltas:  84% (915/1088)   \rResolving deltas:  86% (946/1088)   \rResolving deltas:  88% (962/1088)   \rResolving deltas:  89% (975/1088)   \rResolving deltas:  90% (988/1088)   \rResolving deltas:  91% (992/1088)   \rResolving deltas:  92% (1002/1088)   \rResolving deltas:  93% (1015/1088)   \rResolving deltas:  97% (1066/1088)   \rResolving deltas:  98% (1068/1088)   \rResolving deltas:  99% (1078/1088)   \rResolving deltas: 100% (1088/1088)   \rResolving deltas: 100% (1088/1088), done.\n"
          ],
          "name": "stdout"
        }
      ]
    },
    {
      "metadata": {
        "id": "WHQjrT5EaKYR",
        "colab_type": "code",
        "colab": {
          "base_uri": "https://localhost:8080/",
          "height": 34
        },
        "outputId": "c4a7e48c-ec15-4177-fc46-f719f4ee9bb7"
      },
      "cell_type": "code",
      "source": [
        "cd tf-faster-rcnn/lib"
      ],
      "execution_count": 27,
      "outputs": [
        {
          "output_type": "stream",
          "text": [
            "/content/tf-faster-rcnn/lib\n"
          ],
          "name": "stdout"
        }
      ]
    },
    {
      "metadata": {
        "id": "9VyqQZyvaPaz",
        "colab_type": "code",
        "colab": {
          "base_uri": "https://localhost:8080/",
          "height": 51
        },
        "outputId": "63e38a97-cb5e-42c9-aa86-1369f06da02f"
      },
      "cell_type": "code",
      "source": [
        "ls"
      ],
      "execution_count": 28,
      "outputs": [
        {
          "output_type": "stream",
          "text": [
            "\u001b[0m\u001b[01;34mdatasets\u001b[0m/     Makefile  \u001b[01;34mnets\u001b[0m/  \u001b[01;34mroi_data_layer\u001b[0m/  \u001b[01;34mutils\u001b[0m/\n",
            "\u001b[01;34mlayer_utils\u001b[0m/  \u001b[01;34mmodel\u001b[0m/    \u001b[01;34mnms\u001b[0m/   setup.py\n"
          ],
          "name": "stdout"
        }
      ]
    },
    {
      "metadata": {
        "id": "KO3Dno1CaQnE",
        "colab_type": "code",
        "colab": {}
      },
      "cell_type": "code",
      "source": [
        "%load setup.py"
      ],
      "execution_count": 0,
      "outputs": []
    },
    {
      "metadata": {
        "id": "xL9InrL8aTS3",
        "colab_type": "code",
        "colab": {
          "base_uri": "https://localhost:8080/",
          "height": 51
        },
        "outputId": "fb5103a1-936e-4dd1-adda-6d6e0f895bbb"
      },
      "cell_type": "code",
      "source": [
        "!make clean"
      ],
      "execution_count": 35,
      "outputs": [
        {
          "output_type": "stream",
          "text": [
            "rm -rf */*.pyc\n",
            "rm -rf */*.so\n"
          ],
          "name": "stdout"
        }
      ]
    },
    {
      "metadata": {
        "id": "FyAr0Xb6dL65",
        "colab_type": "code",
        "colab": {
          "base_uri": "https://localhost:8080/",
          "height": 683
        },
        "outputId": "4abb60b9-e601-4255-e9b6-c9fc3ebf79e2"
      },
      "cell_type": "code",
      "source": [
        "!make"
      ],
      "execution_count": 36,
      "outputs": [
        {
          "output_type": "stream",
          "text": [
            "python setup.py build_ext --inplace\n",
            "running build_ext\n",
            "cythoning utils/bbox.pyx to utils/bbox.c\n",
            "/usr/local/lib/python3.6/dist-packages/Cython/Compiler/Main.py:367: FutureWarning: Cython directive 'language_level' not set, using 2 for now (Py2). This will change in a later release! File: /content/tf-faster-rcnn/lib/utils/bbox.pyx\n",
            "  tree = Parsing.p_module(s, pxd, full_module_name)\n",
            "building 'utils.cython_bbox' extension\n",
            "creating build\n",
            "creating build/temp.linux-x86_64-3.6\n",
            "creating build/temp.linux-x86_64-3.6/utils\n",
            "{'gcc': ['-Wno-cpp', '-Wno-unused-function']}\n",
            "x86_64-linux-gnu-gcc -pthread -DNDEBUG -g -fwrapv -O2 -Wall -g -fstack-protector-strong -Wformat -Werror=format-security -Wdate-time -D_FORTIFY_SOURCE=2 -fPIC -I/usr/local/lib/python3.6/dist-packages/numpy/core/include -I/usr/include/python3.6m -c utils/bbox.c -o build/temp.linux-x86_64-3.6/utils/bbox.o -Wno-cpp -Wno-unused-function\n",
            "x86_64-linux-gnu-gcc -pthread -shared -Wl,-O1 -Wl,-Bsymbolic-functions -Wl,-Bsymbolic-functions -Wl,-z,relro -Wl,-Bsymbolic-functions -Wl,-z,relro -g -fstack-protector-strong -Wformat -Werror=format-security -Wdate-time -D_FORTIFY_SOURCE=2 build/temp.linux-x86_64-3.6/utils/bbox.o -o /content/tf-faster-rcnn/lib/utils/cython_bbox.cpython-36m-x86_64-linux-gnu.so\n",
            "skipping 'nms/cpu_nms.c' Cython extension (up-to-date)\n",
            "building 'nms.cpu_nms' extension\n",
            "creating build/temp.linux-x86_64-3.6/nms\n",
            "{'gcc': ['-Wno-cpp', '-Wno-unused-function']}\n",
            "x86_64-linux-gnu-gcc -pthread -DNDEBUG -g -fwrapv -O2 -Wall -g -fstack-protector-strong -Wformat -Werror=format-security -Wdate-time -D_FORTIFY_SOURCE=2 -fPIC -I/usr/local/lib/python3.6/dist-packages/numpy/core/include -I/usr/include/python3.6m -c nms/cpu_nms.c -o build/temp.linux-x86_64-3.6/nms/cpu_nms.o -Wno-cpp -Wno-unused-function\n",
            "x86_64-linux-gnu-gcc -pthread -shared -Wl,-O1 -Wl,-Bsymbolic-functions -Wl,-Bsymbolic-functions -Wl,-z,relro -Wl,-Bsymbolic-functions -Wl,-z,relro -g -fstack-protector-strong -Wformat -Werror=format-security -Wdate-time -D_FORTIFY_SOURCE=2 build/temp.linux-x86_64-3.6/nms/cpu_nms.o -o /content/tf-faster-rcnn/lib/nms/cpu_nms.cpython-36m-x86_64-linux-gnu.so\n",
            "skipping 'nms/gpu_nms.cpp' Cython extension (up-to-date)\n",
            "building 'nms.gpu_nms' extension\n",
            "{'gcc': ['-Wno-unused-function'], 'nvcc': ['-arch=sm_52', '--ptxas-options=-v', '-c', '--compiler-options', \"'-fPIC'\"]}\n",
            "/usr/local/cuda/bin/nvcc -I/usr/local/lib/python3.6/dist-packages/numpy/core/include -I/usr/local/cuda/include -I/usr/include/python3.6m -c nms/nms_kernel.cu -o build/temp.linux-x86_64-3.6/nms/nms_kernel.o -arch=sm_52 --ptxas-options=-v -c --compiler-options '-fPIC'\n",
            "ptxas info    : 0 bytes gmem\n",
            "ptxas info    : Compiling entry function '_Z10nms_kernelifPKfPy' for 'sm_52'\n",
            "ptxas info    : Function properties for _Z10nms_kernelifPKfPy\n",
            "    0 bytes stack frame, 0 bytes spill stores, 0 bytes spill loads\n",
            "ptxas info    : Used 25 registers, 1280 bytes smem, 344 bytes cmem[0], 12 bytes cmem[2]\n",
            "{'gcc': ['-Wno-unused-function'], 'nvcc': ['-arch=sm_52', '--ptxas-options=-v', '-c', '--compiler-options', \"'-fPIC'\"]}\n",
            "x86_64-linux-gnu-gcc -pthread -DNDEBUG -g -fwrapv -O2 -Wall -g -fstack-protector-strong -Wformat -Werror=format-security -Wdate-time -D_FORTIFY_SOURCE=2 -fPIC -I/usr/local/lib/python3.6/dist-packages/numpy/core/include -I/usr/local/cuda/include -I/usr/include/python3.6m -c nms/gpu_nms.cpp -o build/temp.linux-x86_64-3.6/nms/gpu_nms.o -Wno-unused-function\n",
            "In file included from \u001b[01m\u001b[K/usr/local/lib/python3.6/dist-packages/numpy/core/include/numpy/ndarraytypes.h:1816:0\u001b[m\u001b[K,\n",
            "                 from \u001b[01m\u001b[K/usr/local/lib/python3.6/dist-packages/numpy/core/include/numpy/ndarrayobject.h:18\u001b[m\u001b[K,\n",
            "                 from \u001b[01m\u001b[K/usr/local/lib/python3.6/dist-packages/numpy/core/include/numpy/arrayobject.h:4\u001b[m\u001b[K,\n",
            "                 from \u001b[01m\u001b[Knms/gpu_nms.cpp:346\u001b[m\u001b[K:\n",
            "\u001b[01m\u001b[K/usr/local/lib/python3.6/dist-packages/numpy/core/include/numpy/npy_1_7_deprecated_api.h:15:2:\u001b[m\u001b[K \u001b[01;35m\u001b[Kwarning: \u001b[m\u001b[K#warning \"Using deprecated NumPy API, disable it by \" \"#defining NPY_NO_DEPRECATED_API NPY_1_7_API_VERSION\" [\u001b[01;35m\u001b[K-Wcpp\u001b[m\u001b[K]\n",
            " #\u001b[01;35m\u001b[Kwarning\u001b[m\u001b[K \"Using deprecated NumPy API, disable it by \" \\\n",
            "  \u001b[01;35m\u001b[K^~~~~~~\u001b[m\u001b[K\n",
            "x86_64-linux-gnu-g++ -pthread -shared -Wl,-O1 -Wl,-Bsymbolic-functions -Wl,-Bsymbolic-functions -Wl,-z,relro -Wl,-Bsymbolic-functions -Wl,-z,relro -g -fstack-protector-strong -Wformat -Werror=format-security -Wdate-time -D_FORTIFY_SOURCE=2 build/temp.linux-x86_64-3.6/nms/nms_kernel.o build/temp.linux-x86_64-3.6/nms/gpu_nms.o -L/usr/local/cuda/lib64 -Wl,--enable-new-dtags,-R/usr/local/cuda/lib64 -lcudart -o /content/tf-faster-rcnn/lib/nms/gpu_nms.cpython-36m-x86_64-linux-gnu.so\n",
            "rm -rf build\n"
          ],
          "name": "stdout"
        }
      ]
    },
    {
      "metadata": {
        "id": "RRGakZqGdPWR",
        "colab_type": "code",
        "colab": {}
      },
      "cell_type": "code",
      "source": [
        ""
      ],
      "execution_count": 0,
      "outputs": []
    }
  ]
}